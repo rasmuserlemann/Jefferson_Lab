{
  "nbformat": 4,
  "nbformat_minor": 0,
  "metadata": {
    "colab": {
      "provenance": []
    },
    "kernelspec": {
      "name": "python3",
      "display_name": "Python 3"
    },
    "language_info": {
      "name": "python"
    }
  },
  "cells": [
    {
      "cell_type": "markdown",
      "source": [
        "This notebook follows\n",
        "https://machinelearningmastery.com/how-to-develop-a-generative-adversarial-network-for-a-1-dimensional-function-from-scratch-in-keras/"
      ],
      "metadata": {
        "id": "Eav6lajS66Da"
      }
    },
    {
      "cell_type": "code",
      "source": [
        "from numpy.random import rand, choice\n",
        "from numpy import hstack\n",
        "from matplotlib import pyplot\n",
        "from numpy.random import poisson\n",
        "import requests\n",
        "import numpy as np\n",
        "import io\n",
        "\n",
        "url = 'https://github.com/JeffersonLab/jlab_datascience_data/blob/main/eICU_age.npy?raw=true'\n",
        "response = requests.get(url)\n",
        "response.raise_for_status()\n",
        "a = np.load(io.BytesIO(response.content))\n",
        "\n",
        "def gen_fake(n, a=a):\n",
        "  m = len(a)\n",
        "  a = poisson(20, m)\n",
        "\n",
        "  y = np.zeros((n, 1))\n",
        "  a = a[:n]\n",
        "  a = np.vstack(a)\n",
        "  return a, y\n",
        "def gen_real(n, a=a):\n",
        "  y = np.ones((n, 1))\n",
        "  a = choice(a, n)\n",
        "  a = np.asarray([x[0] for x in a]).reshape(len(a),1)\n",
        "  return a, y"
      ],
      "metadata": {
        "id": "YaX7tUip58d5"
      },
      "execution_count": 6,
      "outputs": []
    },
    {
      "cell_type": "code",
      "source": [
        "# define the discriminator model\n",
        "from keras.models import Sequential\n",
        "from keras.layers import Dense\n",
        "from keras.utils.vis_utils import plot_model\n",
        " \n",
        "# define the standalone discriminator model\n",
        "def define_discriminator(n_inputs=1):\n",
        "\tmodel = Sequential()\n",
        "\tmodel.add(Dense(25, activation='relu', kernel_initializer='he_uniform', input_dim=n_inputs))\n",
        "\tmodel.add(Dense(1, activation='sigmoid'))\n",
        "\t# compile model\n",
        "\tmodel.compile(loss='binary_crossentropy', optimizer='adam', metrics=['accuracy'])\n",
        "\treturn model\n",
        " \n",
        "# define the discriminator model\n",
        "model = define_discriminator()\n",
        "\n",
        "def train_discriminator(model, n_epochs=1000, n_batch=128):\n",
        "\thalf_batch = int(n_batch / 2)\n",
        "\t# run epochs manually\n",
        "\tfor i in range(n_epochs):\n",
        "\t\t# generate real examples\n",
        "\t\tX_real, y_real = gen_real(half_batch)\n",
        "\t\t# update model\n",
        "\t\tmodel.train_on_batch(X_real, y_real)\n",
        "\t\t# generate fake examples\n",
        "\t\tX_fake, y_fake = gen_fake(half_batch)\n",
        "\t\t# update model\n",
        "\t\tmodel.train_on_batch(X_fake, y_fake)\n",
        "\t\t# evaluate the model\n",
        "\t\t_, acc_real = model.evaluate(X_real, y_real, verbose=0)\n",
        "\t\t_, acc_fake = model.evaluate(X_fake, y_fake, verbose=0)\n",
        "\t\tprint(i, acc_real, acc_fake)\n",
        "\n",
        "# fit the model\n",
        "train_discriminator(model)"
      ],
      "metadata": {
        "id": "oFKelAMwcm0v"
      },
      "execution_count": null,
      "outputs": []
    },
    {
      "cell_type": "code",
      "source": [
        "# define the standalone generator model\n",
        "def define_generator(latent_dim, n_outputs=1):\n",
        "\tmodel = Sequential()\n",
        "\tmodel.add(Dense(15, activation='relu', kernel_initializer='he_uniform', input_dim=latent_dim))\n",
        "\tmodel.add(Dense(n_outputs, activation='linear'))\n",
        "\treturn model\n",
        "  \n",
        "# define the discriminator model\n",
        "model = define_generator(5)\n",
        "# summarize the model\n",
        "model.summary()\n",
        "# plot the model\n",
        "plot_model(model, to_file='generator_plot.png', show_shapes=True, show_layer_names=True)"
      ],
      "metadata": {
        "id": "D-0b6nWR7gY_",
        "colab": {
          "base_uri": "https://localhost:8080/",
          "height": 544
        },
        "outputId": "01f06cc6-2d50-496b-edc2-f2acacf7773b"
      },
      "execution_count": 8,
      "outputs": [
        {
          "output_type": "stream",
          "name": "stdout",
          "text": [
            "Model: \"sequential_3\"\n",
            "_________________________________________________________________\n",
            " Layer (type)                Output Shape              Param #   \n",
            "=================================================================\n",
            " dense_6 (Dense)             (None, 15)                90        \n",
            "                                                                 \n",
            " dense_7 (Dense)             (None, 1)                 16        \n",
            "                                                                 \n",
            "=================================================================\n",
            "Total params: 106\n",
            "Trainable params: 106\n",
            "Non-trainable params: 0\n",
            "_________________________________________________________________\n"
          ]
        },
        {
          "output_type": "execute_result",
          "data": {
            "image/png": "[encoded data removed]",
            "text/plain": [
              "<IPython.core.display.Image object>"
            ]
          },
          "metadata": {},
          "execution_count": 8
        }
      ]
    },
    {
      "cell_type": "code",
      "source": [
        "# train a generative adversarial network on a one-dimensional function\n",
        "from numpy import hstack\n",
        "from numpy import zeros\n",
        "from numpy import ones\n",
        "from numpy.random import rand\n",
        "from numpy.random import randn\n",
        "from keras.models import Sequential\n",
        "from keras.layers import Dense\n",
        "import matplotlib.pyplot as plt\n",
        " \n",
        "# define the standalone discriminator model\n",
        "def define_discriminator(n_inputs=1):\n",
        "\tmodel = Sequential()\n",
        "\tmodel.add(Dense(25, activation='relu', kernel_initializer='he_uniform', input_dim=n_inputs))\n",
        "\tmodel.add(Dense(1, activation='sigmoid'))\n",
        "\t# compile model\n",
        "\tmodel.compile(loss='binary_crossentropy', optimizer='adam', metrics=['accuracy'])\n",
        "\treturn model\n",
        " \n",
        "# define the standalone generator model\n",
        "def define_generator(latent_dim, n_outputs=1):\n",
        "\tmodel = Sequential()\n",
        "\tmodel.add(Dense(15, activation='relu', kernel_initializer='he_uniform', input_dim=latent_dim))\n",
        "\tmodel.add(Dense(n_outputs, activation='linear'))\n",
        "\treturn model\n",
        " \n",
        "# define the combined generator and discriminator model, for updating the generator\n",
        "def define_gan(generator, discriminator):\n",
        "\t# make weights in the discriminator not trainable\n",
        "\tdiscriminator.trainable = False\n",
        "\t# connect them\n",
        "\tmodel = Sequential()\n",
        "\t# add generator\n",
        "\tmodel.add(generator)\n",
        "\t# add the discriminator\n",
        "\tmodel.add(discriminator)\n",
        "\t# compile model\n",
        "\tmodel.compile(loss='binary_crossentropy', optimizer='adam')\n",
        "\treturn model\n",
        " \n",
        "# generate points in latent space as input for the generator\n",
        "def generate_latent_points(latent_dim, n):\n",
        "\t# generate points in the latent space\n",
        "\tx_input = gen_fake(latent_dim * n)[0]\n",
        "\t# reshape into a batch of inputs for the network\n",
        "\tx_input = x_input.reshape(n, latent_dim)\n",
        "\treturn x_input\n",
        " \n",
        "# use the generator to generate n fake examples, with class labels\n",
        "def generate_fake_samples(generator, latent_dim, n):\n",
        "\t# generate points in latent space\n",
        "\tx_input = generate_latent_points(latent_dim, n)\n",
        "\t# predict outputs\n",
        "\tX = generator.predict(x_input)\n",
        "\t# create class labels\n",
        "\ty = zeros((n, 1))\n",
        "\treturn X, y\n",
        " \n",
        "# evaluate the discriminator and plot real and fake points\n",
        "def summarize_performance(epoch, generator, discriminator, latent_dim, n=500):\n",
        "\t# prepare real samples\n",
        "\tx_real, y_real = gen_real(n)\n",
        "\t# evaluate discriminator on real examples\n",
        "\t_, acc_real = discriminator.evaluate(x_real, y_real, verbose=0)\n",
        "\t# prepare fake examples\n",
        "\tx_fake, y_fake = generate_fake_samples(generator, latent_dim, n)\n",
        "\t# evaluate discriminator on fake examples\n",
        "\t_, acc_fake = discriminator.evaluate(x_fake, y_fake, verbose=0)\n",
        "\t# Histogram plot real and fake data points\n",
        "\tprint(\"Number of epochs:\", epoch)\n",
        "\tprint(\"Number of real samples:\", len(x_real))\n",
        "\tprint(\"Number of generated samples:\", len(x_fake))\n",
        "\tplt.hist(x_real, color='red')\n",
        "\tplt.hist(x_fake, color='blue')\n",
        "\tlabels= [\"real\",\"generated\"]\n",
        "\tplt.legend(labels)\n",
        "\tplt.show()\n",
        " \n",
        "# train the generator and discriminator\n",
        "def train(g_model, d_model, gan_model, latent_dim, n_epochs=10000, n_batch=128):\n",
        "\t# determine half the size of one batch, for updating the discriminator\n",
        "\thalf_batch = int(n_batch / 2)\n",
        "\t# manually enumerate epochs\n",
        "\tfor i in range(n_epochs):\n",
        "\t\t# prepare real samples\n",
        "\t\tx_real, y_real = gen_real(half_batch)\n",
        "\t\t# prepare fake examples\n",
        "\t\tx_fake, y_fake = generate_fake_samples(g_model, latent_dim, half_batch)\n",
        "\t\t# update discriminator\n",
        "\t\td_model.train_on_batch(x_real, y_real)\n",
        "\t\td_model.train_on_batch(x_fake, y_fake)\n",
        "\t\t# prepare points in latent space as input for the generator\n",
        "\t\tx_gan = generate_latent_points(latent_dim, n_batch)\n",
        "\t\t# create inverted labels for the fake samples\n",
        "\t\ty_gan = ones((n_batch, 1))\n",
        "\t\t# update the generator via the discriminator's error\n",
        "\t\tgan_model.train_on_batch(x_gan, y_gan)\n",
        "\t\t# evaluate the model every n_eval epochs\n",
        "\tsummarize_performance(i, g_model, d_model, latent_dim)\n",
        " \n",
        "# size of the latent space\n",
        "latent_dim = 5\n",
        "# create the discriminator\n",
        "discriminator = define_discriminator()\n",
        "# create the generator\n",
        "generator = define_generator(latent_dim)\n",
        "# create the gan\n",
        "gan_model = define_gan(generator, discriminator)\n",
        "# train model\n",
        "train(generator, discriminator, gan_model, latent_dim)"
      ],
      "metadata": {
        "colab": {
          "base_uri": "https://localhost:8080/",
          "height": 319
        },
        "id": "Ov2BKxxd88WG",
        "outputId": "76e85179-3ea3-4dad-8e78-ab8169b55c8c"
      },
      "execution_count": 11,
      "outputs": [
        {
          "output_type": "stream",
          "name": "stdout",
          "text": [
            "Number of epochs: 9999\n",
            "Number of real samples: 500\n",
            "Number of generated samples: 500\n"
          ]
        },
        {
          "output_type": "display_data",
          "data": {
            "text/plain": [
              "<Figure size 432x288 with 1 Axes>"
            ],
            "image/png": "[encoded data removed]"
          },
          "metadata": {
            "needs_background": "light"
          }
        }
      ]
    },
    {
      "cell_type": "code",
      "source": [
        "n_gen = 500\n",
        "s = generate_fake_samples(generator, 5, n_gen)[0].reshape(1,n_gen).astype(int)\n",
        "print(s)"
      ],
      "metadata": {
        "colab": {
          "base_uri": "https://localhost:8080/"
        },
        "id": "uQbLFSjdIMuC",
        "outputId": "042cbcd0-79bb-485e-9aac-5c831c69ef54"
      },
      "execution_count": 31,
      "outputs": [
        {
          "output_type": "stream",
          "name": "stdout",
          "text": [
            "[[63 72 52 76 73 55 60 63 57 53 63 66 64 63 65 61 69 64 57 56 55 61 55 59\n",
            "  57 63 54 65 76 61 55 57 75 72 51 72 58 64 58 75 59 73 55 59 63 50 64 71\n",
            "  57 65 67 73 64 67 72 73 60 70 74 60 60 64 54 53 48 54 71 63 66 66 53 72\n",
            "  57 76 69 62 67 78 64 69 66 56 64 64 59 55 68 71 67 66 58 62 69 61 73 61\n",
            "  57 71 56 62 63 64 53 57 64 59 70 67 55 60 54 48 61 56 68 56 65 63 47 64\n",
            "  76 67 68 48 60 65 68 53 61 56 59 58 60 72 67 63 62 53 60 70 61 70 68 77\n",
            "  56 62 55 53 67 51 79 55 45 63 62 55 67 50 61 56 65 60 53 69 60 54 74 54\n",
            "  71 54 64 60 68 58 53 72 64 62 64 51 51 52 59 64 57 79 54 55 62 55 59 74\n",
            "  54 67 70 58 55 60 65 64 71 67 67 76 74 66 58 70 54 58 54 71 62 62 60 56\n",
            "  68 64 57 55 54 55 73 48 67 62 66 62 71 58 65 70 69 74 63 67 60 61 61 65\n",
            "  62 70 53 55 64 66 60 60 73 53 65 59 73 64 59 73 59 68 59 59 67 63 66 49\n",
            "  69 54 61 62 69 57 64 74 64 72 63 58 55 61 66 73 66 69 58 68 66 64 67 61\n",
            "  66 50 52 55 67 59 70 53 59 66 72 64 59 58 61 62 69 61 62 65 60 69 59 61\n",
            "  80 67 61 52 74 66 66 72 76 68 52 70 64 71 53 60 69 64 65 53 56 67 65 60\n",
            "  63 57 60 67 64 67 52 49 74 71 52 61 75 54 55 56 48 55 54 53 59 60 63 66\n",
            "  63 59 66 65 64 60 68 68 52 59 61 61 66 67 59 59 56 74 64 58 67 63 64 73\n",
            "  57 65 59 62 62 71 61 67 66 50 76 60 68 60 53 68 70 58 59 68 58 62 55 64\n",
            "  68 60 54 60 74 59 56 59 50 58 58 58 70 70 61 74 57 56 63 70 74 60 54 64\n",
            "  62 66 65 53 70 60 69 78 60 60 69 57 52 62 62 74 60 66 60 74 59 50 64 72\n",
            "  59 58 69 72 59 62 68 70 64 51 56 66 59 56 58 66 62 58 66 67 59 62 68 62\n",
            "  55 67 63 60 70 61 57 65 58 66 70 55 66 49 63 61 70 75 62 53]]\n"
          ]
        }
      ]
    }
  ]
}